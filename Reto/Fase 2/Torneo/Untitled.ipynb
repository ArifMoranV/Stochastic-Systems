{
 "cells": [
  {
   "cell_type": "code",
   "execution_count": 3,
   "id": "8dc92bd9-55a5-4fb3-9642-c2c55e5f543d",
   "metadata": {},
   "outputs": [],
   "source": [
    "using Plots\n",
    "using Random"
   ]
  },
  {
   "cell_type": "code",
   "execution_count": 4,
   "id": "04a0be14-705a-4267-9167-61f24d2b4e66",
   "metadata": {},
   "outputs": [
    {
     "ename": "LoadError",
     "evalue": "ArgumentError: invalid index: 0.8595362878094995 of type Float64",
     "output_type": "error",
     "traceback": [
      "ArgumentError: invalid index: 0.8595362878094995 of type Float64",
      "",
      "Stacktrace:",
      " [1] to_index(i::Float64)",
      "   @ Base .\\indices.jl:300",
      " [2] to_index(A::Matrix{Float64}, i::Float64)",
      "   @ Base .\\indices.jl:277",
      " [3] to_indices",
      "   @ .\\indices.jl:333 [inlined]",
      " [4] to_indices",
      "   @ .\\indices.jl:324 [inlined]",
      " [5] getindex(::Matrix{Float64}, ::Float64, ::Int64)",
      "   @ Base .\\abstractarray.jl:1241",
      " [6] top-level scope",
      "   @ In[4]:10"
     ]
    }
   ],
   "source": [
    "using Plots\n",
    "\n",
    "# Sample data (replace with your data)\n",
    "rs = rand(100, 3)  # Replace with your 3D data\n",
    "bp = rand(100)    # Replace with your labels\n",
    "N = 100            # Number of data points\n",
    "\n",
    "pp = plot()\n",
    "\n",
    "scatter(rs[bp[2], 1], rs[bp[2], 2], color=\"red\", label=\"recorrido normal\", markersize=1/100)\n",
    "\n",
    "for i in 1:N\n",
    "    annotate!([(rs[bp[2], 1][i], rs[bp[2], 2][i], text(string(bp[i]), :left, 8))])\n",
    "end\n",
    "\n",
    "display(pp)\n",
    "\n"
   ]
  },
  {
   "cell_type": "code",
   "execution_count": null,
   "id": "10deb35c-c704-4995-ac80-14b9e2f673e8",
   "metadata": {},
   "outputs": [],
   "source": []
  }
 ],
 "metadata": {
  "kernelspec": {
   "display_name": "Julia 1.8.5",
   "language": "julia",
   "name": "julia-1.8"
  },
  "language_info": {
   "file_extension": ".jl",
   "mimetype": "application/julia",
   "name": "julia",
   "version": "1.8.5"
  }
 },
 "nbformat": 4,
 "nbformat_minor": 5
}
