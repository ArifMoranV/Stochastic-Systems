{
 "cells": [
  {
   "cell_type": "code",
   "execution_count": 1,
   "id": "503c0fd6-f42c-4da8-8942-465aeee9cf4c",
   "metadata": {},
   "outputs": [],
   "source": [
    "using Random"
   ]
  },
  {
   "cell_type": "code",
   "execution_count": 55,
   "id": "02918700-2284-4f59-a677-4942dab93cb6",
   "metadata": {},
   "outputs": [
    {
     "data": {
      "text/plain": [
       "25.858755816158123"
      ]
     },
     "execution_count": 55,
     "metadata": {},
     "output_type": "execute_result"
    }
   ],
   "source": [
    "N=10000\n",
    "n=10\n",
    "data=rand(N,n)\n",
    "xs=sum(data,dims=2).^2\n",
    "sum(xs)/N\n"
   ]
  },
  {
   "cell_type": "code",
   "execution_count": null,
   "id": "12f92732-9418-4f56-ac5d-1fdd0ae9ba6f",
   "metadata": {},
   "outputs": [],
   "source": []
  }
 ],
 "metadata": {
  "kernelspec": {
   "display_name": "Julia 1.8.5",
   "language": "julia",
   "name": "julia-1.8"
  },
  "language_info": {
   "file_extension": ".jl",
   "mimetype": "application/julia",
   "name": "julia",
   "version": "1.8.5"
  }
 },
 "nbformat": 4,
 "nbformat_minor": 5
}
