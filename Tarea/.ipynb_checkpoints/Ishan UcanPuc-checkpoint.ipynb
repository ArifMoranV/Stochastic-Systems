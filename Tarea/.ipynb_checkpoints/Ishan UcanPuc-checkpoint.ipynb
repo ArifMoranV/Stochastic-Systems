{
 "cells": [
  {
   "cell_type": "code",
   "execution_count": 3,
   "id": "89f85985",
   "metadata": {},
   "outputs": [],
   "source": [
    "using Plots\n",
    "using Random"
   ]
  },
  {
   "cell_type": "code",
   "execution_count": 9,
   "id": "0738ce4f",
   "metadata": {},
   "outputs": [
    {
     "data": {
      "text/plain": [
       "0.0:1000.0:1000.0"
      ]
     },
     "execution_count": 9,
     "metadata": {},
     "output_type": "execute_result"
    }
   ],
   "source": [
    "x0=0\n",
    "M=10\n",
    "N=10 #unidades de tiempo\n",
    "data=rand([-1, 1], N)\n",
    "T=range(0,1000,2)"
   ]
  },
  {
   "cell_type": "code",
   "execution_count": 14,
   "id": "58e7b2ba",
   "metadata": {},
   "outputs": [],
   "source": [
    "db=zeros((M,N))\n",
    "for i in 1:M\n",
    "    db[i,:]=rand([-1, 1], N)\n",
    "end"
   ]
  },
  {
   "cell_type": "code",
   "execution_count": null,
   "id": "72c71b1c",
   "metadata": {},
   "outputs": [],
   "source": [
    "ones(M,N)*T"
   ]
  },
  {
   "cell_type": "code",
   "execution_count": null,
   "id": "0b7d5852",
   "metadata": {},
   "outputs": [],
   "source": []
  }
 ],
 "metadata": {
  "kernelspec": {
   "display_name": "Julia 1.8.5",
   "language": "julia",
   "name": "julia-1.8"
  },
  "language_info": {
   "file_extension": ".jl",
   "mimetype": "application/julia",
   "name": "julia",
   "version": "1.8.5"
  }
 },
 "nbformat": 4,
 "nbformat_minor": 5
}
