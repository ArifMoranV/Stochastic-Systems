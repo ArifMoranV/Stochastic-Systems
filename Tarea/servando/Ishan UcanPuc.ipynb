{
 "cells": [
  {
   "cell_type": "code",
   "execution_count": 1,
   "id": "89f85985",
   "metadata": {},
   "outputs": [],
   "source": [
    "using Plots\n",
    "using Random"
   ]
  },
  {
   "cell_type": "code",
   "execution_count": 49,
   "id": "0738ce4f",
   "metadata": {},
   "outputs": [
    {
     "data": {
      "text/plain": [
       "0.0:10.1010101010101:1000.0"
      ]
     },
     "execution_count": 49,
     "metadata": {},
     "output_type": "execute_result"
    }
   ],
   "source": [
    "x0=0\n",
    "M=100\n",
    "N=100 #unidades de tiempo\n",
    "data=rand([-1, 1], N)\n",
    "T=range(0,1000,N)"
   ]
  },
  {
   "cell_type": "code",
   "execution_count": 50,
   "id": "58e7b2ba",
   "metadata": {},
   "outputs": [],
   "source": [
    "db=zeros((M,N))\n",
    "for i in 1:M\n",
    "    db[i,:]=rand([-1, 1], N)\n",
    "end"
   ]
  },
  {
   "cell_type": "code",
   "execution_count": 52,
   "id": "72c71b1c",
   "metadata": {},
   "outputs": [],
   "source": [
    "#scatter(T,db,color=\"red\",label=\"data\")"
   ]
  },
  {
   "cell_type": "code",
   "execution_count": 54,
   "id": "a71559c8",
   "metadata": {},
   "outputs": [
    {
     "ename": "LoadError",
     "evalue": "MethodError: objects of type Matrix{Float64} are not callable\nUse square brackets [] for indexing an Array.",
     "output_type": "error",
     "traceback": [
      "MethodError: objects of type Matrix{Float64} are not callable\nUse square brackets [] for indexing an Array.",
      "",
      "Stacktrace:",
      " [1] mapreduce_first(f::Matrix{Float64}, op::Function, x::Int64)",
      "   @ Base .\\reduce.jl:419",
      " [2] mapreduce(f::Matrix{Float64}, op::Function, a::Int64)",
      "   @ Base .\\reduce.jl:446",
      " [3] sum(f::Matrix{Float64}, a::Int64; kw::Base.Pairs{Symbol, Union{}, Tuple{}, NamedTuple{(), Tuple{}}})",
      "   @ Base .\\reduce.jl:528",
      " [4] sum(f::Matrix{Float64}, a::Int64)",
      "   @ Base .\\reduce.jl:528",
      " [5] top-level scope",
      "   @ In[54]:1"
     ]
    }
   ],
   "source": [
    "sum(db,1)"
   ]
  },
  {
   "cell_type": "code",
   "execution_count": 29,
   "id": "6bb17db3",
   "metadata": {},
   "outputs": [],
   "source": [
    "using Symbolics "
   ]
  },
  {
   "cell_type": "code",
   "execution_count": 31,
   "id": "2fcde08f",
   "metadata": {},
   "outputs": [
    {
     "data": {
      "text/latex": [
       "$$ \\begin{equation}\n",
       "\\left[\n",
       "\\begin{array}{c}\n",
       "t \\\\\n",
       "\\end{array}\n",
       "\\right]\n",
       "\\end{equation}\n",
       " $$"
      ],
      "text/plain": [
       "1-element Vector{Num}:\n",
       " t"
      ]
     },
     "execution_count": 31,
     "metadata": {},
     "output_type": "execute_result"
    }
   ],
   "source": [
    "@variables t"
   ]
  },
  {
   "cell_type": "code",
   "execution_count": 38,
   "id": "f1ce5b21",
   "metadata": {},
   "outputs": [
    {
     "data": {
      "text/latex": [
       "$$ \\begin{equation}\n",
       "\\cos\\left(  - t \\right) + \\sin\\left(  - t \\right) \\mathit{i}\n",
       "\\end{equation}\n",
       " $$"
      ],
      "text/plain": [
       "im*sin(-t) + cos(-t)"
      ]
     },
     "execution_count": 38,
     "metadata": {},
     "output_type": "execute_result"
    }
   ],
   "source": [
    "exp(-1*t*1im)"
   ]
  },
  {
   "cell_type": "code",
   "execution_count": null,
   "id": "fc92b1ce",
   "metadata": {},
   "outputs": [],
   "source": []
  }
 ],
 "metadata": {
  "kernelspec": {
   "display_name": "Julia 1.8.5",
   "language": "julia",
   "name": "julia-1.8"
  },
  "language_info": {
   "file_extension": ".jl",
   "mimetype": "application/julia",
   "name": "julia",
   "version": "1.8.5"
  }
 },
 "nbformat": 4,
 "nbformat_minor": 5
}
